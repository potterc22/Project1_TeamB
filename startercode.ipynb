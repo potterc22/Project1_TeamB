{
 "metadata": {
  "language_info": {
   "codemirror_mode": {
    "name": "ipython",
    "version": 3
   },
   "file_extension": ".py",
   "mimetype": "text/x-python",
   "name": "python",
   "nbconvert_exporter": "python",
   "pygments_lexer": "ipython3",
   "version": "3.8.3-final"
  },
  "orig_nbformat": 2,
  "kernelspec": {
   "name": "python_defaultSpec_1599788997725",
   "display_name": "Python 3.8.3 64-bit ('base': conda)"
  }
 },
 "nbformat": 4,
 "nbformat_minor": 2,
 "cells": [
  {
   "cell_type": "code",
   "execution_count": 3,
   "metadata": {
    "tags": []
   },
   "outputs": [],
   "source": [
    "%matplotlib inline "
   ]
  },
  {
   "cell_type": "code",
   "execution_count": 4,
   "metadata": {},
   "outputs": [],
   "source": [
    "import matplotlib.pyplot as plt \n",
    "import numpy as np \n",
    "import pandas as pd "
   ]
  },
  {
   "cell_type": "code",
   "execution_count": 13,
   "metadata": {},
   "outputs": [
    {
     "output_type": "execute_result",
     "data": {
      "text/plain": "             team_name team_name_short team_id team_id_pfr team_conference  \\\n0    Arizona Cardinals       Cardinals     ARI         CRD             NFC   \n1    Phoenix Cardinals       Cardinals     ARI         CRD             NFC   \n2  St. Louis Cardinals       Cardinals     ARI         ARI             NFC   \n3      Atlanta Falcons         Falcons     ATL         ATL             NFC   \n4     Baltimore Ravens          Ravens     BAL         RAV             AFC   \n\n  team_division team_conference_pre2002 team_division_pre2002  \n0      NFC West                     NFC              NFC West  \n1           NaN                     NFC              NFC East  \n2           NaN                     NFC              NFC East  \n3     NFC South                     NFC              NFC West  \n4     AFC North                     AFC           AFC Central  ",
      "text/html": "<div>\n<style scoped>\n    .dataframe tbody tr th:only-of-type {\n        vertical-align: middle;\n    }\n\n    .dataframe tbody tr th {\n        vertical-align: top;\n    }\n\n    .dataframe thead th {\n        text-align: right;\n    }\n</style>\n<table border=\"1\" class=\"dataframe\">\n  <thead>\n    <tr style=\"text-align: right;\">\n      <th></th>\n      <th>team_name</th>\n      <th>team_name_short</th>\n      <th>team_id</th>\n      <th>team_id_pfr</th>\n      <th>team_conference</th>\n      <th>team_division</th>\n      <th>team_conference_pre2002</th>\n      <th>team_division_pre2002</th>\n    </tr>\n  </thead>\n  <tbody>\n    <tr>\n      <th>0</th>\n      <td>Arizona Cardinals</td>\n      <td>Cardinals</td>\n      <td>ARI</td>\n      <td>CRD</td>\n      <td>NFC</td>\n      <td>NFC West</td>\n      <td>NFC</td>\n      <td>NFC West</td>\n    </tr>\n    <tr>\n      <th>1</th>\n      <td>Phoenix Cardinals</td>\n      <td>Cardinals</td>\n      <td>ARI</td>\n      <td>CRD</td>\n      <td>NFC</td>\n      <td>NaN</td>\n      <td>NFC</td>\n      <td>NFC East</td>\n    </tr>\n    <tr>\n      <th>2</th>\n      <td>St. Louis Cardinals</td>\n      <td>Cardinals</td>\n      <td>ARI</td>\n      <td>ARI</td>\n      <td>NFC</td>\n      <td>NaN</td>\n      <td>NFC</td>\n      <td>NFC East</td>\n    </tr>\n    <tr>\n      <th>3</th>\n      <td>Atlanta Falcons</td>\n      <td>Falcons</td>\n      <td>ATL</td>\n      <td>ATL</td>\n      <td>NFC</td>\n      <td>NFC South</td>\n      <td>NFC</td>\n      <td>NFC West</td>\n    </tr>\n    <tr>\n      <th>4</th>\n      <td>Baltimore Ravens</td>\n      <td>Ravens</td>\n      <td>BAL</td>\n      <td>RAV</td>\n      <td>AFC</td>\n      <td>AFC North</td>\n      <td>AFC</td>\n      <td>AFC Central</td>\n    </tr>\n  </tbody>\n</table>\n</div>"
     },
     "metadata": {},
     "execution_count": 13
    }
   ],
   "source": [
    "# Read CSV\n",
    "teams_df = pd.read_csv('Data_files/nfl_teams.csv')\n",
    "teams_df.head()"
   ]
  },
  {
   "cell_type": "code",
   "execution_count": 16,
   "metadata": {},
   "outputs": [
    {
     "output_type": "execute_result",
     "data": {
      "text/plain": "  schedule_date  schedule_season schedule_week  schedule_playoff  \\\n0    09/02/1966             1966             1             False   \n1    09/03/1966             1966             1             False   \n2    09/04/1966             1966             1             False   \n3    09/09/1966             1966             2             False   \n4    09/10/1966             1966             1             False   \n\n            team_home  score_home  score_away        team_away  \\\n0      Miami Dolphins          14          23  Oakland Raiders   \n1      Houston Oilers          45           7   Denver Broncos   \n2  San Diego Chargers          27           7    Buffalo Bills   \n3      Miami Dolphins          14          19    New York Jets   \n4   Green Bay Packers          24           3  Baltimore Colts   \n\n  team_favorite_id  spread_favorite over_under_line         stadium  \\\n0              NaN              NaN             NaN     Orange Bowl   \n1              NaN              NaN             NaN    Rice Stadium   \n2              NaN              NaN             NaN  Balboa Stadium   \n3              NaN              NaN             NaN     Orange Bowl   \n4              NaN              NaN             NaN   Lambeau Field   \n\n   stadium_neutral  weather_temperature  weather_wind_mph weather_humidity  \\\n0            False                 83.0               6.0               71   \n1            False                 81.0               7.0               70   \n2            False                 70.0               7.0               82   \n3            False                 82.0              11.0               78   \n4            False                 64.0               8.0               62   \n\n  weather_detail  \n0            NaN  \n1            NaN  \n2            NaN  \n3            NaN  \n4            NaN  ",
      "text/html": "<div>\n<style scoped>\n    .dataframe tbody tr th:only-of-type {\n        vertical-align: middle;\n    }\n\n    .dataframe tbody tr th {\n        vertical-align: top;\n    }\n\n    .dataframe thead th {\n        text-align: right;\n    }\n</style>\n<table border=\"1\" class=\"dataframe\">\n  <thead>\n    <tr style=\"text-align: right;\">\n      <th></th>\n      <th>schedule_date</th>\n      <th>schedule_season</th>\n      <th>schedule_week</th>\n      <th>schedule_playoff</th>\n      <th>team_home</th>\n      <th>score_home</th>\n      <th>score_away</th>\n      <th>team_away</th>\n      <th>team_favorite_id</th>\n      <th>spread_favorite</th>\n      <th>over_under_line</th>\n      <th>stadium</th>\n      <th>stadium_neutral</th>\n      <th>weather_temperature</th>\n      <th>weather_wind_mph</th>\n      <th>weather_humidity</th>\n      <th>weather_detail</th>\n    </tr>\n  </thead>\n  <tbody>\n    <tr>\n      <th>0</th>\n      <td>09/02/1966</td>\n      <td>1966</td>\n      <td>1</td>\n      <td>False</td>\n      <td>Miami Dolphins</td>\n      <td>14</td>\n      <td>23</td>\n      <td>Oakland Raiders</td>\n      <td>NaN</td>\n      <td>NaN</td>\n      <td>NaN</td>\n      <td>Orange Bowl</td>\n      <td>False</td>\n      <td>83.0</td>\n      <td>6.0</td>\n      <td>71</td>\n      <td>NaN</td>\n    </tr>\n    <tr>\n      <th>1</th>\n      <td>09/03/1966</td>\n      <td>1966</td>\n      <td>1</td>\n      <td>False</td>\n      <td>Houston Oilers</td>\n      <td>45</td>\n      <td>7</td>\n      <td>Denver Broncos</td>\n      <td>NaN</td>\n      <td>NaN</td>\n      <td>NaN</td>\n      <td>Rice Stadium</td>\n      <td>False</td>\n      <td>81.0</td>\n      <td>7.0</td>\n      <td>70</td>\n      <td>NaN</td>\n    </tr>\n    <tr>\n      <th>2</th>\n      <td>09/04/1966</td>\n      <td>1966</td>\n      <td>1</td>\n      <td>False</td>\n      <td>San Diego Chargers</td>\n      <td>27</td>\n      <td>7</td>\n      <td>Buffalo Bills</td>\n      <td>NaN</td>\n      <td>NaN</td>\n      <td>NaN</td>\n      <td>Balboa Stadium</td>\n      <td>False</td>\n      <td>70.0</td>\n      <td>7.0</td>\n      <td>82</td>\n      <td>NaN</td>\n    </tr>\n    <tr>\n      <th>3</th>\n      <td>09/09/1966</td>\n      <td>1966</td>\n      <td>2</td>\n      <td>False</td>\n      <td>Miami Dolphins</td>\n      <td>14</td>\n      <td>19</td>\n      <td>New York Jets</td>\n      <td>NaN</td>\n      <td>NaN</td>\n      <td>NaN</td>\n      <td>Orange Bowl</td>\n      <td>False</td>\n      <td>82.0</td>\n      <td>11.0</td>\n      <td>78</td>\n      <td>NaN</td>\n    </tr>\n    <tr>\n      <th>4</th>\n      <td>09/10/1966</td>\n      <td>1966</td>\n      <td>1</td>\n      <td>False</td>\n      <td>Green Bay Packers</td>\n      <td>24</td>\n      <td>3</td>\n      <td>Baltimore Colts</td>\n      <td>NaN</td>\n      <td>NaN</td>\n      <td>NaN</td>\n      <td>Lambeau Field</td>\n      <td>False</td>\n      <td>64.0</td>\n      <td>8.0</td>\n      <td>62</td>\n      <td>NaN</td>\n    </tr>\n  </tbody>\n</table>\n</div>"
     },
     "metadata": {},
     "execution_count": 16
    }
   ],
   "source": [
    "scores_df = pd.read_csv('Data_files/spreadspoke_scores.csv')\n",
    "scores_df.head()"
   ]
  },
  {
   "cell_type": "code",
   "execution_count": null,
   "metadata": {},
   "outputs": [],
   "source": []
  }
 ]
}